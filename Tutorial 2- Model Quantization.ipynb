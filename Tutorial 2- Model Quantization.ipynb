{
 "cells": [
  {
   "cell_type": "code",
   "execution_count": 1,
   "id": "cf4b7d34-d7ed-431b-b757-5aff67e7895e",
   "metadata": {},
   "outputs": [],
   "source": [
    "import tensorflow as tf\n",
    "import tensorflow_model_optimization as tfmopt"
   ]
  },
  {
   "cell_type": "code",
   "execution_count": 2,
   "id": "d6a20c92-8406-4ed2-9995-851d23ef6b74",
   "metadata": {},
   "outputs": [
    {
     "name": "stdout",
     "output_type": "stream",
     "text": [
      "Epoch 1/5\n",
      "1688/1688 [==============================] - 1s 467us/step - loss: 0.2866 - accuracy: 0.9194 - val_loss: 0.1318 - val_accuracy: 0.9643\n",
      "Epoch 2/5\n",
      "1688/1688 [==============================] - 1s 438us/step - loss: 0.1339 - accuracy: 0.9607 - val_loss: 0.1140 - val_accuracy: 0.9662\n",
      "Epoch 3/5\n",
      "1688/1688 [==============================] - 1s 437us/step - loss: 0.0926 - accuracy: 0.9722 - val_loss: 0.0936 - val_accuracy: 0.9732\n",
      "Epoch 4/5\n",
      "1688/1688 [==============================] - 1s 440us/step - loss: 0.0696 - accuracy: 0.9786 - val_loss: 0.0766 - val_accuracy: 0.9765\n",
      "Epoch 5/5\n",
      "1688/1688 [==============================] - 1s 442us/step - loss: 0.0550 - accuracy: 0.9830 - val_loss: 0.0784 - val_accuracy: 0.9763\n",
      "Reload successful 🎉\n",
      "Model: \"sequential\"\n",
      "_________________________________________________________________\n",
      " Layer (type)                Output Shape              Param #   \n",
      "=================================================================\n",
      " flatten (Flatten)           (None, 784)               0         \n",
      "                                                                 \n",
      " dense (Dense)               (None, 100)               78500     \n",
      "                                                                 \n",
      " dense_1 (Dense)             (None, 10)                1010      \n",
      "                                                                 \n",
      "=================================================================\n",
      "Total params: 79510 (310.59 KB)\n",
      "Trainable params: 79510 (310.59 KB)\n",
      "Non-trainable params: 0 (0.00 Byte)\n",
      "_________________________________________________________________\n",
      "None\n"
     ]
    }
   ],
   "source": [
    "# ✅ Define model using tf.keras.layers\n",
    "model = tf.keras.Sequential([\n",
    "    tf.keras.layers.Input(shape=(28, 28)),       # modern Input, no InputLayer\n",
    "    tf.keras.layers.Flatten(),\n",
    "    tf.keras.layers.Dense(100, activation=\"relu\"),\n",
    "    tf.keras.layers.Dense(10, activation=\"softmax\")  # softmax for 10-class classification\n",
    "])\n",
    "\n",
    "# ✅ Compile\n",
    "model.compile(\n",
    "    optimizer=\"adam\",\n",
    "    loss=\"sparse_categorical_crossentropy\",   # use categorical_crossentropy if one-hot labels\n",
    "    metrics=[\"accuracy\"]\n",
    ")\n",
    "\n",
    "# Example training data (MNIST)\n",
    "(X_train, y_train), (X_test, y_test) = tf.keras.datasets.mnist.load_data()\n",
    "X_train, X_test = X_train / 255.0, X_test / 255.0\n",
    "\n",
    "# Train\n",
    "model.fit(X_train, y_train, epochs=5, batch_size=32, validation_split=0.1)\n",
    "\n",
    "# ✅ Save in new format\n",
    "model.save(\"./models/digit_classifier.keras\")\n",
    "\n",
    "# ✅ Load back safely\n",
    "loaded_model = tf.keras.models.load_model(\"./models/digit_classifier.keras\")\n",
    "\n",
    "print(\"Reload successful 🎉\")\n",
    "print(loaded_model.summary())\n"
   ]
  },
  {
   "cell_type": "markdown",
   "id": "bbe8874d-0138-4a20-8b45-7c55e2dde28e",
   "metadata": {},
   "source": [
    "### Method 1: Post Training Quantization"
   ]
  },
  {
   "cell_type": "code",
   "execution_count": 3,
   "id": "27614a19-b40a-473d-8c57-b36b59731648",
   "metadata": {},
   "outputs": [
    {
     "name": "stderr",
     "output_type": "stream",
     "text": [
      "WARNING: All log messages before absl::InitializeLog() is called are written to STDERR\n",
      "W0000 00:00:1757489004.244148 1965882 tf_tfl_flatbuffer_helpers.cc:364] Ignored output_format.\n",
      "W0000 00:00:1757489004.244162 1965882 tf_tfl_flatbuffer_helpers.cc:367] Ignored drop_control_dependency.\n",
      "2025-09-10 12:53:24.244336: I tensorflow/cc/saved_model/reader.cc:83] Reading SavedModel from: ./models/saved_model\n",
      "2025-09-10 12:53:24.244493: I tensorflow/cc/saved_model/reader.cc:52] Reading meta graph with tags { serve }\n",
      "2025-09-10 12:53:24.244496: I tensorflow/cc/saved_model/reader.cc:147] Reading SavedModel debug info (if present) from: ./models/saved_model\n",
      "I0000 00:00:1757489004.245531 1965882 mlir_graph_optimization_pass.cc:437] MLIR V1 optimization pass is not enabled\n",
      "2025-09-10 12:53:24.245688: I tensorflow/cc/saved_model/loader.cc:236] Restoring SavedModel bundle.\n",
      "2025-09-10 12:53:24.251327: I tensorflow/cc/saved_model/loader.cc:220] Running initialization op on SavedModel bundle at path: ./models/saved_model\n",
      "2025-09-10 12:53:24.253330: I tensorflow/cc/saved_model/loader.cc:471] SavedModel load for tags { serve }; Status: success: OK. Took 8996 microseconds.\n",
      "2025-09-10 12:53:24.256917: I tensorflow/compiler/mlir/tensorflow/utils/dump_mlir_util.cc:269] disabling MLIR crash reproducer, set env var `MLIR_CRASH_REPRODUCER_DIRECTORY` to enable.\n"
     ]
    }
   ],
   "source": [
    "# With TF Lite conversion only and without quantization\n",
    "converter = tf.lite.TFLiteConverter.from_saved_model(\"./models/saved_model\")\n",
    "tflite_model = converter.convert()"
   ]
  },
  {
   "cell_type": "code",
   "execution_count": 4,
   "id": "02837024-6716-48ae-b436-2212ecd291fb",
   "metadata": {},
   "outputs": [
    {
     "data": {
      "text/plain": [
       "320676"
      ]
     },
     "execution_count": 4,
     "metadata": {},
     "output_type": "execute_result"
    }
   ],
   "source": [
    "len(tflite_model)"
   ]
  },
  {
   "cell_type": "code",
   "execution_count": 5,
   "id": "66c7a44d-db2e-4c16-9576-17090eea3ec4",
   "metadata": {},
   "outputs": [
    {
     "name": "stderr",
     "output_type": "stream",
     "text": [
      "W0000 00:00:1757489006.287241 1965882 tf_tfl_flatbuffer_helpers.cc:364] Ignored output_format.\n",
      "W0000 00:00:1757489006.287253 1965882 tf_tfl_flatbuffer_helpers.cc:367] Ignored drop_control_dependency.\n",
      "2025-09-10 12:53:26.287372: I tensorflow/cc/saved_model/reader.cc:83] Reading SavedModel from: ./models/saved_model\n",
      "2025-09-10 12:53:26.287515: I tensorflow/cc/saved_model/reader.cc:52] Reading meta graph with tags { serve }\n",
      "2025-09-10 12:53:26.287518: I tensorflow/cc/saved_model/reader.cc:147] Reading SavedModel debug info (if present) from: ./models/saved_model\n",
      "2025-09-10 12:53:26.288512: I tensorflow/cc/saved_model/loader.cc:236] Restoring SavedModel bundle.\n",
      "2025-09-10 12:53:26.293832: I tensorflow/cc/saved_model/loader.cc:220] Running initialization op on SavedModel bundle at path: ./models/saved_model\n",
      "2025-09-10 12:53:26.295787: I tensorflow/cc/saved_model/loader.cc:471] SavedModel load for tags { serve }; Status: success: OK. Took 8416 microseconds.\n"
     ]
    }
   ],
   "source": [
    "# With TF Lite conversion and quantization\n",
    "converter = tf.lite.TFLiteConverter.from_saved_model(\"./models/saved_model\")\n",
    "converter.optimizations = [tf.lite.Optimize.DEFAULT]\n",
    "tflite_quant_model = converter.convert()"
   ]
  },
  {
   "cell_type": "code",
   "execution_count": 6,
   "id": "2dfbbddc-e1e8-4305-bfe8-1b697a00b3e0",
   "metadata": {},
   "outputs": [
    {
     "data": {
      "text/plain": [
       "86744"
      ]
     },
     "execution_count": 6,
     "metadata": {},
     "output_type": "execute_result"
    }
   ],
   "source": [
    "len(tflite_quant_model)"
   ]
  },
  {
   "cell_type": "code",
   "execution_count": 7,
   "id": "66e7bee5-176d-46e8-971f-e9e35d75c887",
   "metadata": {},
   "outputs": [],
   "source": [
    "with open(\"./models/tflite_model.tflite\", \"wb\") as f:\n",
    "    f.write(tflite_model)"
   ]
  },
  {
   "cell_type": "code",
   "execution_count": 8,
   "id": "dd44a4d7-3cf5-4bfe-99f9-ec47507e251f",
   "metadata": {},
   "outputs": [],
   "source": [
    "with open(\"./models/tflite_quant_model.tflite\", \"wb\") as f:\n",
    "    f.write(tflite_quant_model)"
   ]
  },
  {
   "cell_type": "markdown",
   "id": "ded867ac-d6fe-4ec3-a502-33698ead9d26",
   "metadata": {},
   "source": [
    "### Method 2: Quantization Aware Training"
   ]
  },
  {
   "cell_type": "code",
   "execution_count": 9,
   "id": "72ac5016-6194-41ef-b221-b26234caff6e",
   "metadata": {},
   "outputs": [],
   "source": [
    "# Load original model\n",
    "model = tf.keras.models.load_model(\"./models/digit_classifier.keras\")"
   ]
  },
  {
   "cell_type": "code",
   "execution_count": 10,
   "id": "5b5781f4-1eb8-4435-a15e-b552f24111d0",
   "metadata": {},
   "outputs": [
    {
     "name": "stdout",
     "output_type": "stream",
     "text": [
      "Model: \"sequential\"\n",
      "_________________________________________________________________\n",
      " Layer (type)                Output Shape              Param #   \n",
      "=================================================================\n",
      " flatten (Flatten)           (None, 784)               0         \n",
      "                                                                 \n",
      " dense (Dense)               (None, 100)               78500     \n",
      "                                                                 \n",
      " dense_1 (Dense)             (None, 10)                1010      \n",
      "                                                                 \n",
      "=================================================================\n",
      "Total params: 79510 (310.59 KB)\n",
      "Trainable params: 79510 (310.59 KB)\n",
      "Non-trainable params: 0 (0.00 Byte)\n",
      "_________________________________________________________________\n"
     ]
    }
   ],
   "source": [
    "model.summary()"
   ]
  },
  {
   "cell_type": "code",
   "execution_count": 11,
   "id": "7d9c36c6-69c4-4c92-8f8b-2081f3d230bb",
   "metadata": {},
   "outputs": [],
   "source": [
    "quantize_model = tfmopt.quantization.keras.quantize_model\n",
    "q_aware_model = quantize_model(model)"
   ]
  },
  {
   "cell_type": "code",
   "execution_count": 12,
   "id": "80d059b8-c961-40a8-8916-49e289a96adc",
   "metadata": {},
   "outputs": [],
   "source": [
    "q_aware_model.compile(\n",
    "    optimizer=\"adam\",\n",
    "    loss=\"sparse_categorical_crossentropy\",\n",
    "    metrics=[\"accuracy\"]\n",
    ")"
   ]
  },
  {
   "cell_type": "code",
   "execution_count": 13,
   "id": "740aed11-a560-4214-92e1-1484b1913ac5",
   "metadata": {},
   "outputs": [
    {
     "name": "stdout",
     "output_type": "stream",
     "text": [
      "Model: \"sequential\"\n",
      "_________________________________________________________________\n",
      " Layer (type)                Output Shape              Param #   \n",
      "=================================================================\n",
      " quantize_layer (QuantizeLa  (None, 28, 28)            3         \n",
      " yer)                                                            \n",
      "                                                                 \n",
      " quant_flatten (QuantizeWra  (None, 784)               1         \n",
      " pperV2)                                                         \n",
      "                                                                 \n",
      " quant_dense (QuantizeWrapp  (None, 100)               78505     \n",
      " erV2)                                                           \n",
      "                                                                 \n",
      " quant_dense_1 (QuantizeWra  (None, 10)                1015      \n",
      " pperV2)                                                         \n",
      "                                                                 \n",
      "=================================================================\n",
      "Total params: 79524 (310.64 KB)\n",
      "Trainable params: 79510 (310.59 KB)\n",
      "Non-trainable params: 14 (56.00 Byte)\n",
      "_________________________________________________________________\n"
     ]
    }
   ],
   "source": [
    "q_aware_model.summary()"
   ]
  },
  {
   "cell_type": "code",
   "execution_count": 14,
   "id": "8c6ce73e-3352-4ced-8a9e-ecb161380bf0",
   "metadata": {},
   "outputs": [
    {
     "name": "stdout",
     "output_type": "stream",
     "text": [
      "1875/1875 [==============================] - 1s 638us/step - loss: 0.0481 - accuracy: 0.9850\n"
     ]
    },
    {
     "data": {
      "text/plain": [
       "<tf_keras.src.callbacks.History at 0x32675aef0>"
      ]
     },
     "execution_count": 14,
     "metadata": {},
     "output_type": "execute_result"
    }
   ],
   "source": [
    "q_aware_model.fit(X_train, y_train, epochs=1)"
   ]
  },
  {
   "cell_type": "code",
   "execution_count": 15,
   "id": "0f482f33-6fd7-4316-bf52-98ac73b37646",
   "metadata": {},
   "outputs": [
    {
     "name": "stdout",
     "output_type": "stream",
     "text": [
      "313/313 [==============================] - 0s 349us/step - loss: 0.0786 - accuracy: 0.9763\n"
     ]
    },
    {
     "data": {
      "text/plain": [
       "[0.07857106626033783, 0.9763000011444092]"
      ]
     },
     "execution_count": 15,
     "metadata": {},
     "output_type": "execute_result"
    }
   ],
   "source": [
    "q_aware_model.evaluate(X_test, y_test)"
   ]
  },
  {
   "cell_type": "code",
   "execution_count": 16,
   "id": "6a376da1-5f7e-40a6-a598-d7130907be5f",
   "metadata": {},
   "outputs": [
    {
     "name": "stdout",
     "output_type": "stream",
     "text": [
      "INFO:tensorflow:Assets written to: /var/folders/cn/w73m2p855wq0ys03tc29wqs40000gn/T/tmpwfpog3fb/assets\n"
     ]
    },
    {
     "name": "stderr",
     "output_type": "stream",
     "text": [
      "INFO:tensorflow:Assets written to: /var/folders/cn/w73m2p855wq0ys03tc29wqs40000gn/T/tmpwfpog3fb/assets\n",
      "/opt/anaconda3/envs/ml_env/lib/python3.10/site-packages/tensorflow/lite/python/convert.py:863: UserWarning: Statistics for quantized inputs were expected, but not specified; continuing anyway.\n",
      "  warnings.warn(\n",
      "W0000 00:00:1757489014.794646 1965882 tf_tfl_flatbuffer_helpers.cc:364] Ignored output_format.\n",
      "W0000 00:00:1757489014.794654 1965882 tf_tfl_flatbuffer_helpers.cc:367] Ignored drop_control_dependency.\n",
      "2025-09-10 12:53:34.794744: I tensorflow/cc/saved_model/reader.cc:83] Reading SavedModel from: /var/folders/cn/w73m2p855wq0ys03tc29wqs40000gn/T/tmpwfpog3fb\n",
      "2025-09-10 12:53:34.795358: I tensorflow/cc/saved_model/reader.cc:52] Reading meta graph with tags { serve }\n",
      "2025-09-10 12:53:34.795362: I tensorflow/cc/saved_model/reader.cc:147] Reading SavedModel debug info (if present) from: /var/folders/cn/w73m2p855wq0ys03tc29wqs40000gn/T/tmpwfpog3fb\n",
      "2025-09-10 12:53:34.798526: I tensorflow/cc/saved_model/loader.cc:236] Restoring SavedModel bundle.\n",
      "2025-09-10 12:53:34.813115: I tensorflow/cc/saved_model/loader.cc:220] Running initialization op on SavedModel bundle at path: /var/folders/cn/w73m2p855wq0ys03tc29wqs40000gn/T/tmpwfpog3fb\n",
      "2025-09-10 12:53:34.817498: I tensorflow/cc/saved_model/loader.cc:471] SavedModel load for tags { serve }; Status: success: OK. Took 22755 microseconds.\n"
     ]
    }
   ],
   "source": [
    "converter = tf.lite.TFLiteConverter.from_keras_model(q_aware_model)\n",
    "converter.optimizations = [tf.lite.Optimize.DEFAULT]\n",
    "tflite_qaware_model = converter.convert()"
   ]
  },
  {
   "cell_type": "code",
   "execution_count": 17,
   "id": "68cccfb6-5556-41d7-af86-0d616a08d343",
   "metadata": {},
   "outputs": [],
   "source": [
    "with open(\"./models/tflite_qaware_model.tflite\", \"wb\") as f:\n",
    "    f.write(tflite_qaware_model)"
   ]
  },
  {
   "cell_type": "code",
   "execution_count": 18,
   "id": "776e73f8-c331-4a87-9987-8df85e653408",
   "metadata": {},
   "outputs": [
    {
     "data": {
      "text/plain": [
       "82688"
      ]
     },
     "execution_count": 18,
     "metadata": {},
     "output_type": "execute_result"
    }
   ],
   "source": [
    "len(tflite_qaware_model)"
   ]
  },
  {
   "cell_type": "code",
   "execution_count": null,
   "id": "e93281b9-efd5-47b5-b659-b6fbcbca7110",
   "metadata": {},
   "outputs": [],
   "source": []
  }
 ],
 "metadata": {
  "kernelspec": {
   "display_name": "Python 3 (ipykernel)",
   "language": "python",
   "name": "python3"
  },
  "language_info": {
   "codemirror_mode": {
    "name": "ipython",
    "version": 3
   },
   "file_extension": ".py",
   "mimetype": "text/x-python",
   "name": "python",
   "nbconvert_exporter": "python",
   "pygments_lexer": "ipython3",
   "version": "3.10.16"
  }
 },
 "nbformat": 4,
 "nbformat_minor": 5
}
